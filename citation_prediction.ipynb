{
 "cells": [
  {
   "cell_type": "code",
   "execution_count": 1,
   "id": "045a5005",
   "metadata": {},
   "outputs": [],
   "source": [
    "# Ελένη Γιακουμάκη, ΑΜ: 4651\n",
    "# Μαρία Δημητροπούλου, ΑΜ: 4664\n",
    "# Ομάδα Kaggle: *ChatGPTeam*"
   ]
  },
  {
   "cell_type": "code",
   "execution_count": 2,
   "id": "efbfd2a6",
   "metadata": {},
   "outputs": [],
   "source": [
    "# ------- Imports ------- #\n",
    "import os\n",
    "import pandas as pd\n",
    "import numpy as np\n",
    "import networkx as nx\n",
    "import random\n",
    "from tqdm import tqdm\n",
    "\n",
    "from sklearn.feature_extraction.text import TfidfVectorizer\n",
    "from sklearn.metrics.pairwise import cosine_similarity\n",
    "from sentence_transformers import SentenceTransformer, util\n",
    "\n",
    "import xgboost as xgb"
   ]
  },
  {
   "cell_type": "code",
   "execution_count": 3,
   "id": "7af8a2f4",
   "metadata": {},
   "outputs": [],
   "source": [
    "# ----- Δήλωση Path & Δημιουργία φακέλων (αν δεν υπάρχουν) ----- #\n",
    "\n",
    "FEATURE_DIR = \"features\"\n",
    "MODEL_DIR = \"model_data\"\n",
    "DATA_DIR = \"data\"\n",
    "SUBMISSION_DIR = \"submissions\"\n",
    "\n",
    "for folder in [FEATURE_DIR, MODEL_DIR, SUBMISSION_DIR]:\n",
    "    os.makedirs(folder, exist_ok=True)"
   ]
  },
  {
   "cell_type": "code",
   "execution_count": 4,
   "id": "a73d2229",
   "metadata": {},
   "outputs": [
    {
     "name": "stdout",
     "output_type": "stream",
     "text": [
      "Χρήση CPU\n"
     ]
    }
   ],
   "source": [
    "# ------- Έλεγχος αν υπάρχει GPU (για sentence-transformers) ------- #\n",
    "import torch\n",
    "if torch.cuda.is_available():\n",
    "    print(\"GPU name:\", torch.cuda.get_device_name(0))\n",
    "else:\n",
    "    print(\"Χρήση CPU\")"
   ]
  },
  {
   "cell_type": "code",
   "execution_count": 5,
   "id": "80e9c563",
   "metadata": {},
   "outputs": [
    {
     "ename": "FileNotFoundError",
     "evalue": "[Errno 2] No such file or directory: 'data/test.txt'",
     "output_type": "error",
     "traceback": [
      "\u001b[31m---------------------------------------------------------------------------\u001b[39m",
      "\u001b[31mFileNotFoundError\u001b[39m                         Traceback (most recent call last)",
      "\u001b[36mCell\u001b[39m\u001b[36m \u001b[39m\u001b[32mIn[5]\u001b[39m\u001b[32m, line 4\u001b[39m\n\u001b[32m      1\u001b[39m \u001b[38;5;66;03m# ------- Προεπισκόπηση test set ------- #\u001b[39;00m\n\u001b[32m      2\u001b[39m \n\u001b[32m      3\u001b[39m \u001b[38;5;66;03m# Φόρτωση ζευγών για πρόβλεψη\u001b[39;00m\n\u001b[32m----> \u001b[39m\u001b[32m4\u001b[39m df_test = \u001b[43mpd\u001b[49m\u001b[43m.\u001b[49m\u001b[43mread_csv\u001b[49m\u001b[43m(\u001b[49m\u001b[33;43mf\u001b[39;49m\u001b[33;43m\"\u001b[39;49m\u001b[38;5;132;43;01m{\u001b[39;49;00m\u001b[43mDATA_DIR\u001b[49m\u001b[38;5;132;43;01m}\u001b[39;49;00m\u001b[33;43m/test.txt\u001b[39;49m\u001b[33;43m\"\u001b[39;49m\u001b[43m,\u001b[49m\u001b[43m \u001b[49m\u001b[43msep\u001b[49m\u001b[43m=\u001b[49m\u001b[33;43m\"\u001b[39;49m\u001b[33;43m,\u001b[39;49m\u001b[33;43m\"\u001b[39;49m\u001b[43m,\u001b[49m\u001b[43m \u001b[49m\u001b[43mheader\u001b[49m\u001b[43m=\u001b[49m\u001b[38;5;28;43;01mNone\u001b[39;49;00m\u001b[43m,\u001b[49m\u001b[43m \u001b[49m\u001b[43mnames\u001b[49m\u001b[43m=\u001b[49m\u001b[43m[\u001b[49m\u001b[33;43m\"\u001b[39;49m\u001b[33;43mid1\u001b[39;49m\u001b[33;43m\"\u001b[39;49m\u001b[43m,\u001b[49m\u001b[43m \u001b[49m\u001b[33;43m\"\u001b[39;49m\u001b[33;43mid2\u001b[39;49m\u001b[33;43m\"\u001b[39;49m\u001b[43m]\u001b[49m\u001b[43m)\u001b[49m\n\u001b[32m      5\u001b[39m df_test[\u001b[33m\"\u001b[39m\u001b[33mid1\u001b[39m\u001b[33m\"\u001b[39m] = df_test[\u001b[33m\"\u001b[39m\u001b[33mid1\u001b[39m\u001b[33m\"\u001b[39m].astype(\u001b[38;5;28mstr\u001b[39m)\n\u001b[32m      6\u001b[39m df_test[\u001b[33m\"\u001b[39m\u001b[33mid2\u001b[39m\u001b[33m\"\u001b[39m] = df_test[\u001b[33m\"\u001b[39m\u001b[33mid2\u001b[39m\u001b[33m\"\u001b[39m].astype(\u001b[38;5;28mstr\u001b[39m)\n",
      "\u001b[36mFile \u001b[39m\u001b[32mc:\\Users\\maria\\Desktop\\nlp_4651_4664\\citation_env\\Lib\\site-packages\\pandas\\io\\parsers\\readers.py:1026\u001b[39m, in \u001b[36mread_csv\u001b[39m\u001b[34m(filepath_or_buffer, sep, delimiter, header, names, index_col, usecols, dtype, engine, converters, true_values, false_values, skipinitialspace, skiprows, skipfooter, nrows, na_values, keep_default_na, na_filter, verbose, skip_blank_lines, parse_dates, infer_datetime_format, keep_date_col, date_parser, date_format, dayfirst, cache_dates, iterator, chunksize, compression, thousands, decimal, lineterminator, quotechar, quoting, doublequote, escapechar, comment, encoding, encoding_errors, dialect, on_bad_lines, delim_whitespace, low_memory, memory_map, float_precision, storage_options, dtype_backend)\u001b[39m\n\u001b[32m   1013\u001b[39m kwds_defaults = _refine_defaults_read(\n\u001b[32m   1014\u001b[39m     dialect,\n\u001b[32m   1015\u001b[39m     delimiter,\n\u001b[32m   (...)\u001b[39m\u001b[32m   1022\u001b[39m     dtype_backend=dtype_backend,\n\u001b[32m   1023\u001b[39m )\n\u001b[32m   1024\u001b[39m kwds.update(kwds_defaults)\n\u001b[32m-> \u001b[39m\u001b[32m1026\u001b[39m \u001b[38;5;28;01mreturn\u001b[39;00m \u001b[43m_read\u001b[49m\u001b[43m(\u001b[49m\u001b[43mfilepath_or_buffer\u001b[49m\u001b[43m,\u001b[49m\u001b[43m \u001b[49m\u001b[43mkwds\u001b[49m\u001b[43m)\u001b[49m\n",
      "\u001b[36mFile \u001b[39m\u001b[32mc:\\Users\\maria\\Desktop\\nlp_4651_4664\\citation_env\\Lib\\site-packages\\pandas\\io\\parsers\\readers.py:620\u001b[39m, in \u001b[36m_read\u001b[39m\u001b[34m(filepath_or_buffer, kwds)\u001b[39m\n\u001b[32m    617\u001b[39m _validate_names(kwds.get(\u001b[33m\"\u001b[39m\u001b[33mnames\u001b[39m\u001b[33m\"\u001b[39m, \u001b[38;5;28;01mNone\u001b[39;00m))\n\u001b[32m    619\u001b[39m \u001b[38;5;66;03m# Create the parser.\u001b[39;00m\n\u001b[32m--> \u001b[39m\u001b[32m620\u001b[39m parser = \u001b[43mTextFileReader\u001b[49m\u001b[43m(\u001b[49m\u001b[43mfilepath_or_buffer\u001b[49m\u001b[43m,\u001b[49m\u001b[43m \u001b[49m\u001b[43m*\u001b[49m\u001b[43m*\u001b[49m\u001b[43mkwds\u001b[49m\u001b[43m)\u001b[49m\n\u001b[32m    622\u001b[39m \u001b[38;5;28;01mif\u001b[39;00m chunksize \u001b[38;5;129;01mor\u001b[39;00m iterator:\n\u001b[32m    623\u001b[39m     \u001b[38;5;28;01mreturn\u001b[39;00m parser\n",
      "\u001b[36mFile \u001b[39m\u001b[32mc:\\Users\\maria\\Desktop\\nlp_4651_4664\\citation_env\\Lib\\site-packages\\pandas\\io\\parsers\\readers.py:1620\u001b[39m, in \u001b[36mTextFileReader.__init__\u001b[39m\u001b[34m(self, f, engine, **kwds)\u001b[39m\n\u001b[32m   1617\u001b[39m     \u001b[38;5;28mself\u001b[39m.options[\u001b[33m\"\u001b[39m\u001b[33mhas_index_names\u001b[39m\u001b[33m\"\u001b[39m] = kwds[\u001b[33m\"\u001b[39m\u001b[33mhas_index_names\u001b[39m\u001b[33m\"\u001b[39m]\n\u001b[32m   1619\u001b[39m \u001b[38;5;28mself\u001b[39m.handles: IOHandles | \u001b[38;5;28;01mNone\u001b[39;00m = \u001b[38;5;28;01mNone\u001b[39;00m\n\u001b[32m-> \u001b[39m\u001b[32m1620\u001b[39m \u001b[38;5;28mself\u001b[39m._engine = \u001b[38;5;28;43mself\u001b[39;49m\u001b[43m.\u001b[49m\u001b[43m_make_engine\u001b[49m\u001b[43m(\u001b[49m\u001b[43mf\u001b[49m\u001b[43m,\u001b[49m\u001b[43m \u001b[49m\u001b[38;5;28;43mself\u001b[39;49m\u001b[43m.\u001b[49m\u001b[43mengine\u001b[49m\u001b[43m)\u001b[49m\n",
      "\u001b[36mFile \u001b[39m\u001b[32mc:\\Users\\maria\\Desktop\\nlp_4651_4664\\citation_env\\Lib\\site-packages\\pandas\\io\\parsers\\readers.py:1880\u001b[39m, in \u001b[36mTextFileReader._make_engine\u001b[39m\u001b[34m(self, f, engine)\u001b[39m\n\u001b[32m   1878\u001b[39m     \u001b[38;5;28;01mif\u001b[39;00m \u001b[33m\"\u001b[39m\u001b[33mb\u001b[39m\u001b[33m\"\u001b[39m \u001b[38;5;129;01mnot\u001b[39;00m \u001b[38;5;129;01min\u001b[39;00m mode:\n\u001b[32m   1879\u001b[39m         mode += \u001b[33m\"\u001b[39m\u001b[33mb\u001b[39m\u001b[33m\"\u001b[39m\n\u001b[32m-> \u001b[39m\u001b[32m1880\u001b[39m \u001b[38;5;28mself\u001b[39m.handles = \u001b[43mget_handle\u001b[49m\u001b[43m(\u001b[49m\n\u001b[32m   1881\u001b[39m \u001b[43m    \u001b[49m\u001b[43mf\u001b[49m\u001b[43m,\u001b[49m\n\u001b[32m   1882\u001b[39m \u001b[43m    \u001b[49m\u001b[43mmode\u001b[49m\u001b[43m,\u001b[49m\n\u001b[32m   1883\u001b[39m \u001b[43m    \u001b[49m\u001b[43mencoding\u001b[49m\u001b[43m=\u001b[49m\u001b[38;5;28;43mself\u001b[39;49m\u001b[43m.\u001b[49m\u001b[43moptions\u001b[49m\u001b[43m.\u001b[49m\u001b[43mget\u001b[49m\u001b[43m(\u001b[49m\u001b[33;43m\"\u001b[39;49m\u001b[33;43mencoding\u001b[39;49m\u001b[33;43m\"\u001b[39;49m\u001b[43m,\u001b[49m\u001b[43m \u001b[49m\u001b[38;5;28;43;01mNone\u001b[39;49;00m\u001b[43m)\u001b[49m\u001b[43m,\u001b[49m\n\u001b[32m   1884\u001b[39m \u001b[43m    \u001b[49m\u001b[43mcompression\u001b[49m\u001b[43m=\u001b[49m\u001b[38;5;28;43mself\u001b[39;49m\u001b[43m.\u001b[49m\u001b[43moptions\u001b[49m\u001b[43m.\u001b[49m\u001b[43mget\u001b[49m\u001b[43m(\u001b[49m\u001b[33;43m\"\u001b[39;49m\u001b[33;43mcompression\u001b[39;49m\u001b[33;43m\"\u001b[39;49m\u001b[43m,\u001b[49m\u001b[43m \u001b[49m\u001b[38;5;28;43;01mNone\u001b[39;49;00m\u001b[43m)\u001b[49m\u001b[43m,\u001b[49m\n\u001b[32m   1885\u001b[39m \u001b[43m    \u001b[49m\u001b[43mmemory_map\u001b[49m\u001b[43m=\u001b[49m\u001b[38;5;28;43mself\u001b[39;49m\u001b[43m.\u001b[49m\u001b[43moptions\u001b[49m\u001b[43m.\u001b[49m\u001b[43mget\u001b[49m\u001b[43m(\u001b[49m\u001b[33;43m\"\u001b[39;49m\u001b[33;43mmemory_map\u001b[39;49m\u001b[33;43m\"\u001b[39;49m\u001b[43m,\u001b[49m\u001b[43m \u001b[49m\u001b[38;5;28;43;01mFalse\u001b[39;49;00m\u001b[43m)\u001b[49m\u001b[43m,\u001b[49m\n\u001b[32m   1886\u001b[39m \u001b[43m    \u001b[49m\u001b[43mis_text\u001b[49m\u001b[43m=\u001b[49m\u001b[43mis_text\u001b[49m\u001b[43m,\u001b[49m\n\u001b[32m   1887\u001b[39m \u001b[43m    \u001b[49m\u001b[43merrors\u001b[49m\u001b[43m=\u001b[49m\u001b[38;5;28;43mself\u001b[39;49m\u001b[43m.\u001b[49m\u001b[43moptions\u001b[49m\u001b[43m.\u001b[49m\u001b[43mget\u001b[49m\u001b[43m(\u001b[49m\u001b[33;43m\"\u001b[39;49m\u001b[33;43mencoding_errors\u001b[39;49m\u001b[33;43m\"\u001b[39;49m\u001b[43m,\u001b[49m\u001b[43m \u001b[49m\u001b[33;43m\"\u001b[39;49m\u001b[33;43mstrict\u001b[39;49m\u001b[33;43m\"\u001b[39;49m\u001b[43m)\u001b[49m\u001b[43m,\u001b[49m\n\u001b[32m   1888\u001b[39m \u001b[43m    \u001b[49m\u001b[43mstorage_options\u001b[49m\u001b[43m=\u001b[49m\u001b[38;5;28;43mself\u001b[39;49m\u001b[43m.\u001b[49m\u001b[43moptions\u001b[49m\u001b[43m.\u001b[49m\u001b[43mget\u001b[49m\u001b[43m(\u001b[49m\u001b[33;43m\"\u001b[39;49m\u001b[33;43mstorage_options\u001b[39;49m\u001b[33;43m\"\u001b[39;49m\u001b[43m,\u001b[49m\u001b[43m \u001b[49m\u001b[38;5;28;43;01mNone\u001b[39;49;00m\u001b[43m)\u001b[49m\u001b[43m,\u001b[49m\n\u001b[32m   1889\u001b[39m \u001b[43m\u001b[49m\u001b[43m)\u001b[49m\n\u001b[32m   1890\u001b[39m \u001b[38;5;28;01massert\u001b[39;00m \u001b[38;5;28mself\u001b[39m.handles \u001b[38;5;129;01mis\u001b[39;00m \u001b[38;5;129;01mnot\u001b[39;00m \u001b[38;5;28;01mNone\u001b[39;00m\n\u001b[32m   1891\u001b[39m f = \u001b[38;5;28mself\u001b[39m.handles.handle\n",
      "\u001b[36mFile \u001b[39m\u001b[32mc:\\Users\\maria\\Desktop\\nlp_4651_4664\\citation_env\\Lib\\site-packages\\pandas\\io\\common.py:873\u001b[39m, in \u001b[36mget_handle\u001b[39m\u001b[34m(path_or_buf, mode, encoding, compression, memory_map, is_text, errors, storage_options)\u001b[39m\n\u001b[32m    868\u001b[39m \u001b[38;5;28;01melif\u001b[39;00m \u001b[38;5;28misinstance\u001b[39m(handle, \u001b[38;5;28mstr\u001b[39m):\n\u001b[32m    869\u001b[39m     \u001b[38;5;66;03m# Check whether the filename is to be opened in binary mode.\u001b[39;00m\n\u001b[32m    870\u001b[39m     \u001b[38;5;66;03m# Binary mode does not support 'encoding' and 'newline'.\u001b[39;00m\n\u001b[32m    871\u001b[39m     \u001b[38;5;28;01mif\u001b[39;00m ioargs.encoding \u001b[38;5;129;01mand\u001b[39;00m \u001b[33m\"\u001b[39m\u001b[33mb\u001b[39m\u001b[33m\"\u001b[39m \u001b[38;5;129;01mnot\u001b[39;00m \u001b[38;5;129;01min\u001b[39;00m ioargs.mode:\n\u001b[32m    872\u001b[39m         \u001b[38;5;66;03m# Encoding\u001b[39;00m\n\u001b[32m--> \u001b[39m\u001b[32m873\u001b[39m         handle = \u001b[38;5;28;43mopen\u001b[39;49m\u001b[43m(\u001b[49m\n\u001b[32m    874\u001b[39m \u001b[43m            \u001b[49m\u001b[43mhandle\u001b[49m\u001b[43m,\u001b[49m\n\u001b[32m    875\u001b[39m \u001b[43m            \u001b[49m\u001b[43mioargs\u001b[49m\u001b[43m.\u001b[49m\u001b[43mmode\u001b[49m\u001b[43m,\u001b[49m\n\u001b[32m    876\u001b[39m \u001b[43m            \u001b[49m\u001b[43mencoding\u001b[49m\u001b[43m=\u001b[49m\u001b[43mioargs\u001b[49m\u001b[43m.\u001b[49m\u001b[43mencoding\u001b[49m\u001b[43m,\u001b[49m\n\u001b[32m    877\u001b[39m \u001b[43m            \u001b[49m\u001b[43merrors\u001b[49m\u001b[43m=\u001b[49m\u001b[43merrors\u001b[49m\u001b[43m,\u001b[49m\n\u001b[32m    878\u001b[39m \u001b[43m            \u001b[49m\u001b[43mnewline\u001b[49m\u001b[43m=\u001b[49m\u001b[33;43m\"\u001b[39;49m\u001b[33;43m\"\u001b[39;49m\u001b[43m,\u001b[49m\n\u001b[32m    879\u001b[39m \u001b[43m        \u001b[49m\u001b[43m)\u001b[49m\n\u001b[32m    880\u001b[39m     \u001b[38;5;28;01melse\u001b[39;00m:\n\u001b[32m    881\u001b[39m         \u001b[38;5;66;03m# Binary mode\u001b[39;00m\n\u001b[32m    882\u001b[39m         handle = \u001b[38;5;28mopen\u001b[39m(handle, ioargs.mode)\n",
      "\u001b[31mFileNotFoundError\u001b[39m: [Errno 2] No such file or directory: 'data/test.txt'"
     ]
    }
   ],
   "source": [
    "# ------- Προεπισκόπηση test set ------- #\n",
    "\n",
    "# Φόρτωση ζευγών για πρόβλεψη\n",
    "df_test = pd.read_csv(f\"{DATA_DIR}/test.txt\", sep=\",\", header=None, names=[\"id1\", \"id2\"])\n",
    "df_test[\"id1\"] = df_test[\"id1\"].astype(str)\n",
    "df_test[\"id2\"] = df_test[\"id2\"].astype(str)\n",
    "\n",
    "print(\"Δείγμα test set:\")\n",
    "print(df_test.head())\n",
    "\n",
    "print(\"Συνολικός αριθμός ζευγών για πρόβλεψη:\", len(df_test))\n"
   ]
  },
  {
   "cell_type": "code",
   "execution_count": null,
   "id": "7a8ecbf8",
   "metadata": {},
   "outputs": [
    {
     "name": "stderr",
     "output_type": "stream",
     "text": [
      "Sampling negative pairs: 100%|██████████| 40000/40000 [05:52<00:00, 113.38it/s]\n"
     ]
    },
    {
     "name": "stdout",
     "output_type": "stream",
     "text": [
      "Δημιουργήθηκε το train_pairs.csv με shape: (60000, 3)\n"
     ]
    }
   ],
   "source": [
    "# ------- Δημιουργία training pairs (θετικά & αρνητικά) από edgelist.txt ------- #\n",
    "\n",
    "# Φόρτωση citation graph\n",
    "edgelist_df = pd.read_csv(f\"{DATA_DIR}/edgelist.txt\", header=None, names=[\"source\", \"target\"])\n",
    "edgelist_df[\"source\"] = edgelist_df[\"source\"].astype(str)\n",
    "edgelist_df[\"target\"] = edgelist_df[\"target\"].astype(str)\n",
    "\n",
    "# Συλλογή όλων των paper IDs\n",
    "all_papers = set(edgelist_df[\"source\"]).union(set(edgelist_df[\"target\"]))\n",
    "\n",
    "# Θετικά citation pairs (υπάρχει ακμή)\n",
    "positive_pairs = set(zip(edgelist_df[\"source\"], edgelist_df[\"target\"]))\n",
    "\n",
    "# Τυχαίο δείγμα από θετικά\n",
    "n_pos = 20000\n",
    "positive_samples = random.sample(list(positive_pairs), n_pos)\n",
    "\n",
    "# Δημιουργία αρνητικών pairs (χωρίς ακμή)\n",
    "n_neg = 2 * n_pos\n",
    "negative_samples = set()\n",
    "\n",
    "with tqdm(total=n_neg, desc=\"Sampling negative pairs\") as pbar:\n",
    "    while len(negative_samples) < n_neg:\n",
    "        a, b = random.sample(list(all_papers), 2)\n",
    "        if (a, b) not in positive_pairs:\n",
    "            negative_samples.add((a, b))\n",
    "            pbar.update(1)\n",
    "\n",
    "# Μετατροπή σε DataFrames\n",
    "df_pos = pd.DataFrame(positive_samples, columns=[\"id1\", \"id2\"])\n",
    "df_pos[\"label\"] = 1\n",
    "\n",
    "df_neg = pd.DataFrame(list(negative_samples), columns=[\"id1\", \"id2\"])\n",
    "df_neg[\"label\"] = 0\n",
    "\n",
    "# Συνένωση και ανακάτεμα\n",
    "train_df = pd.concat([df_pos, df_neg], ignore_index=True)\n",
    "train_df = train_df.sample(frac=1, random_state=42).reset_index(drop=True)\n",
    "\n",
    "# Αποθήκευση\n",
    "train_df.to_csv(f\"{DATA_DIR}/train_pairs.csv\", index=False)\n",
    "print(\"Δημιουργήθηκε το train_pairs.csv με shape:\", train_df.shape)\n"
   ]
  },
  {
   "cell_type": "code",
   "execution_count": null,
   "id": "645a691d",
   "metadata": {},
   "outputs": [
    {
     "name": "stderr",
     "output_type": "stream",
     "text": [
      "TF-IDF similarity (train): 100%|██████████| 60000/60000 [00:41<00:00, 1437.09it/s]\n"
     ]
    },
    {
     "name": "stdout",
     "output_type": "stream",
     "text": [
      "Αποθηκεύτηκε το text_similarity_train.csv\n"
     ]
    },
    {
     "name": "stderr",
     "output_type": "stream",
     "text": [
      "TF-IDF similarity (test): 100%|██████████| 106692/106692 [01:23<00:00, 1280.85it/s]\n"
     ]
    },
    {
     "name": "stdout",
     "output_type": "stream",
     "text": [
      "Αποθηκεύτηκε το text_similarity_test.csv\n"
     ]
    }
   ],
   "source": [
    "# ------- Υπολογισμός TF-IDF similarity ------- #\n",
    "\n",
    "# Φόρτωση abstracts\n",
    "abstracts_df = pd.read_csv(f\"{DATA_DIR}/abstracts.txt\", sep=\"\\\\|--\\\\|\", engine=\"python\", names=[\"paper_id\", \"abstract\"])\n",
    "# Αφαίρεση NaN (κενών abstracts)\n",
    "abstracts_df = abstracts_df.dropna(subset=[\"abstract\"])\n",
    "abstracts_df[\"paper_id\"] = abstracts_df[\"paper_id\"].astype(str)\n",
    "\n",
    "# TF-IDF vectorization\n",
    "vectorizer = TfidfVectorizer(lowercase=True, stop_words=\"english\")\n",
    "tfidf_matrix = vectorizer.fit_transform(abstracts_df[\"abstract\"])\n",
    "\n",
    "# Map από paper_id σε index στο TF-IDF matrix\n",
    "paper_index = {pid: idx for idx, pid in enumerate(abstracts_df[\"paper_id\"])}\n",
    "\n",
    "# Συνάρτηση υπολογισμού similarity\n",
    "def tfidf_similarity(id1, id2):\n",
    "    if id1 in paper_index and id2 in paper_index:\n",
    "        vec1 = tfidf_matrix[paper_index[id1]]\n",
    "        vec2 = tfidf_matrix[paper_index[id2]]\n",
    "        return cosine_similarity(vec1, vec2)[0][0]\n",
    "    return 0.0\n",
    "\n",
    "# -------- TRAIN -------- #\n",
    "train_df = pd.read_csv(f\"{DATA_DIR}/train_pairs.csv\").astype(str)\n",
    "tqdm.pandas(desc=\"TF-IDF similarity (train)\")\n",
    "train_df[\"text_similarity\"] = train_df.progress_apply(\n",
    "    lambda row: tfidf_similarity(row[\"id1\"], row[\"id2\"]), axis=1\n",
    ")\n",
    "train_df[[\"id1\", \"id2\", \"text_similarity\"]].to_csv(f\"{FEATURE_DIR}/text_similarity_train.csv\", index=False)\n",
    "print(\"Αποθηκεύτηκε το text_similarity_train.csv\")\n",
    "\n",
    "# -------- TEST -------- #\n",
    "test_df = pd.read_csv(f\"{DATA_DIR}/test.txt\", names=[\"id1\", \"id2\"]).astype(str)\n",
    "tqdm.pandas(desc=\"TF-IDF similarity (test)\")\n",
    "test_df[\"text_similarity\"] = test_df.progress_apply(\n",
    "    lambda row: tfidf_similarity(row[\"id1\"], row[\"id2\"]), axis=1\n",
    ")\n",
    "test_df[[\"id1\", \"id2\", \"text_similarity\"]].to_csv(f\"{FEATURE_DIR}/text_similarity_test.csv\", index=False)\n",
    "print(\"Αποθηκεύτηκε το text_similarity_test.csv\")\n"
   ]
  },
  {
   "cell_type": "code",
   "execution_count": null,
   "id": "96548772",
   "metadata": {},
   "outputs": [
    {
     "data": {
      "application/vnd.jupyter.widget-view+json": {
       "model_id": "974c5404ec9640e79a700e13a990294c",
       "version_major": 2,
       "version_minor": 0
      },
      "text/plain": [
       "Batches:   0%|          | 0/4102 [00:00<?, ?it/s]"
      ]
     },
     "metadata": {},
     "output_type": "display_data"
    },
    {
     "name": "stderr",
     "output_type": "stream",
     "text": [
      "BERT similarity (train): 100%|██████████| 60000/60000 [00:06<00:00, 8593.19it/s] \n"
     ]
    },
    {
     "name": "stdout",
     "output_type": "stream",
     "text": [
      "Αποθηκεύτηκε το bert_similarity_train.csv\n"
     ]
    },
    {
     "name": "stderr",
     "output_type": "stream",
     "text": [
      "BERT similarity (test): 100%|██████████| 106692/106692 [00:10<00:00, 9801.77it/s]\n"
     ]
    },
    {
     "name": "stdout",
     "output_type": "stream",
     "text": [
      "Αποθηκεύτηκε το bert_similarity_test.csv\n"
     ]
    }
   ],
   "source": [
    "# ------- Υπολογισμός BERT similarity ------- #\n",
    "\n",
    "# Φόρτωση abstracts\n",
    "abstracts_df = pd.read_csv(f\"{DATA_DIR}/abstracts.txt\", sep=\"\\\\|--\\\\|\", engine=\"python\", names=[\"paper_id\", \"abstract\"])\n",
    "abstracts_df = abstracts_df.dropna(subset=[\"abstract\"])\n",
    "abstracts_df[\"paper_id\"] = abstracts_df[\"paper_id\"].astype(str)\n",
    "\n",
    "# Φόρτωση BERT μοντέλου\n",
    "model = SentenceTransformer(\"all-MiniLM-L6-v2\")\n",
    "\n",
    "# Υπολογισμός embeddings για όλα τα abstracts\n",
    "abstract_embeddings = model.encode(abstracts_df[\"abstract\"].tolist(), show_progress_bar=True)\n",
    "paper_index = {pid: idx for idx, pid in enumerate(abstracts_df[\"paper_id\"])}\n",
    "\n",
    "# Συνάρτηση similarity\n",
    "def bert_similarity(id1, id2):\n",
    "    if id1 in paper_index and id2 in paper_index:\n",
    "        emb1 = abstract_embeddings[paper_index[id1]]\n",
    "        emb2 = abstract_embeddings[paper_index[id2]]\n",
    "        return util.cos_sim(emb1, emb2).item()\n",
    "    return 0.0\n",
    "\n",
    "# -------- TRAIN -------- #\n",
    "train_df = pd.read_csv(f\"{DATA_DIR}/train_pairs.csv\").astype(str)\n",
    "tqdm.pandas(desc=\"BERT similarity (train)\")\n",
    "train_df[\"bert_similarity\"] = train_df.progress_apply(\n",
    "    lambda row: bert_similarity(row[\"id1\"], row[\"id2\"]), axis=1\n",
    ")\n",
    "train_df[[\"id1\", \"id2\", \"bert_similarity\"]].to_csv(f\"{FEATURE_DIR}/bert_similarity_train.csv\", index=False)\n",
    "print(\"Αποθηκεύτηκε το bert_similarity_train.csv\")\n",
    "\n",
    "# -------- TEST -------- #\n",
    "test_df = pd.read_csv(f\"{DATA_DIR}/test.txt\", names=[\"id1\", \"id2\"]).astype(str)\n",
    "tqdm.pandas(desc=\"BERT similarity (test)\")\n",
    "test_df[\"bert_similarity\"] = test_df.progress_apply(\n",
    "    lambda row: bert_similarity(row[\"id1\"], row[\"id2\"]), axis=1\n",
    ")\n",
    "test_df[[\"id1\", \"id2\", \"bert_similarity\"]].to_csv(f\"{FEATURE_DIR}/bert_similarity_test.csv\", index=False)\n",
    "print(\"Αποθηκεύτηκε το bert_similarity_test.csv\")\n"
   ]
  },
  {
   "cell_type": "code",
   "execution_count": null,
   "id": "dadebd62",
   "metadata": {},
   "outputs": [
    {
     "name": "stderr",
     "output_type": "stream",
     "text": [
      "Author Jaccard (train): 100%|██████████| 60000/60000 [00:00<00:00, 95616.25it/s] \n"
     ]
    },
    {
     "name": "stdout",
     "output_type": "stream",
     "text": [
      "Αποθηκεύτηκε το author_similarity_train.csv\n"
     ]
    },
    {
     "name": "stderr",
     "output_type": "stream",
     "text": [
      "Author Jaccard (test): 100%|██████████| 106692/106692 [00:01<00:00, 104687.80it/s]\n"
     ]
    },
    {
     "name": "stdout",
     "output_type": "stream",
     "text": [
      "Αποθηκεύτηκε το author_similarity_test.csv\n"
     ]
    }
   ],
   "source": [
    "# ------- Υπολογισμός Jaccard similarity για authors ------- #\n",
    "\n",
    "# Φόρτωση authors.txt\n",
    "author_rows = []\n",
    "with open(f\"{DATA_DIR}/authors.txt\", \"r\", encoding=\"utf-8\") as f:\n",
    "    for line in f:\n",
    "        if \"|--|\" in line:\n",
    "            parts = line.strip().split(\"|--|\")\n",
    "            if len(parts) == 2:\n",
    "                paper_id = parts[0].strip()\n",
    "                authors = [a.strip() for a in parts[1].split(\",\")]\n",
    "                author_rows.append((paper_id, set(authors)))\n",
    "\n",
    "# Λεξικό paper_id -> set of authors\n",
    "author_dict = dict(author_rows)\n",
    "\n",
    "# Συνάρτηση Jaccard similarity\n",
    "def jaccard_authors(u, v):\n",
    "    a1 = author_dict.get(u, set())\n",
    "    a2 = author_dict.get(v, set())\n",
    "    if not a1 or not a2:\n",
    "        return 0.0\n",
    "    return len(a1 & a2) / len(a1 | a2)\n",
    "\n",
    "# -------- TRAIN -------- #\n",
    "train_df = pd.read_csv(f\"{DATA_DIR}/train_pairs.csv\").astype(str)\n",
    "tqdm.pandas(desc=\"Author Jaccard (train)\")\n",
    "train_df[\"author_jaccard\"] = train_df.progress_apply(\n",
    "    lambda row: jaccard_authors(row[\"id1\"], row[\"id2\"]), axis=1\n",
    ")\n",
    "train_df[[\"id1\", \"id2\", \"author_jaccard\"]].to_csv(f\"{FEATURE_DIR}/author_similarity_train.csv\", index=False)\n",
    "print(\"Αποθηκεύτηκε το author_similarity_train.csv\")\n",
    "\n",
    "# -------- TEST -------- #\n",
    "test_df = pd.read_csv(f\"{DATA_DIR}/test.txt\", names=[\"id1\", \"id2\"]).astype(str)\n",
    "tqdm.pandas(desc=\"Author Jaccard (test)\")\n",
    "test_df[\"author_jaccard\"] = test_df.progress_apply(\n",
    "    lambda row: jaccard_authors(row[\"id1\"], row[\"id2\"]), axis=1\n",
    ")\n",
    "test_df[[\"id1\", \"id2\", \"author_jaccard\"]].to_csv(f\"{FEATURE_DIR}/author_similarity_test.csv\", index=False)\n",
    "print(\"Αποθηκεύτηκε το author_similarity_test.csv\")\n"
   ]
  },
  {
   "cell_type": "code",
   "execution_count": null,
   "id": "fe13ac9d",
   "metadata": {},
   "outputs": [
    {
     "name": "stdout",
     "output_type": "stream",
     "text": [
      "Nodes: 138499 Edges: 1091955\n"
     ]
    },
    {
     "name": "stderr",
     "output_type": "stream",
     "text": [
      "Graph features (train): 100%|██████████| 60000/60000 [07:19<00:00, 136.58it/s]\n"
     ]
    },
    {
     "name": "stdout",
     "output_type": "stream",
     "text": [
      "Αποθηκεύτηκε το graph_features_train.csv\n"
     ]
    },
    {
     "name": "stderr",
     "output_type": "stream",
     "text": [
      "Graph features (test): 100%|██████████| 106692/106692 [18:50<00:00, 94.40it/s] \n"
     ]
    },
    {
     "name": "stdout",
     "output_type": "stream",
     "text": [
      "Αποθηκεύτηκε το graph_features_test.csv\n"
     ]
    }
   ],
   "source": [
    "# ------- Υπολογισμός graph-based χαρακτηριστικών ------- #\n",
    "\n",
    "# Φόρτωση citation graph ως directed γράφος\n",
    "G = nx.read_edgelist(f\"{DATA_DIR}/edgelist.txt\", delimiter=\",\", create_using=nx.DiGraph(), nodetype=str)\n",
    "G_undirected = G.to_undirected()\n",
    "\n",
    "print(\"Nodes:\", G.number_of_nodes(), \"Edges:\", G.number_of_edges())\n",
    "\n",
    "# Συνάρτηση υπολογισμού graph metrics\n",
    "def compute_graph_features(u, v):\n",
    "    try:\n",
    "        # Common Neighbors: Πλήθος κοινών γειτόνων στον μη κατευθυνόμενο γράφο\n",
    "        cn = len(list(nx.common_neighbors(G_undirected, u, v)))\n",
    "    except:\n",
    "        cn = 0\n",
    "    try:\n",
    "        # Jaccard Coefficient: |N(u) ∩ N(v)| / |N(u) ∪ N(v)|\n",
    "        jacc = list(nx.jaccard_coefficient(G_undirected, [(u, v)]))[0][2]\n",
    "    except:\n",
    "        jacc = 0.0\n",
    "    try:\n",
    "        # Adamic-Adar Index: Δίνει βάρος στους \"πιο μοναδικούς\" κοινούς γείτονες\n",
    "        aa = list(nx.adamic_adar_index(G_undirected, [(u, v)]))[0][2]\n",
    "    except:\n",
    "        aa = 0.0\n",
    "    try:\n",
    "        # Shortest Path Length: Μήκος συντομότερου μονοπατιού (στο directed γράφο)\n",
    "        spl = nx.shortest_path_length(G, u, v)\n",
    "    except:\n",
    "        spl = -1  # αν δεν υπάρχει διαδρομή\n",
    "    return pd.Series([cn, jacc, aa, spl])\n",
    "\n",
    "# -------- TRAIN -------- #\n",
    "train_df = pd.read_csv(f\"{DATA_DIR}/train_pairs.csv\").astype(str)\n",
    "tqdm.pandas(desc=\"Graph features (train)\")\n",
    "train_df[[\"common_neighbors\", \"jaccard\", \"adamic_adar\", \"shortest_path\"]] = train_df.progress_apply(\n",
    "    lambda row: compute_graph_features(row[\"id1\"], row[\"id2\"]), axis=1\n",
    ")\n",
    "train_df[[\"id1\", \"id2\", \"common_neighbors\", \"jaccard\", \"adamic_adar\", \"shortest_path\"]]\\\n",
    "    .to_csv(f\"{FEATURE_DIR}/graph_features_train.csv\", index=False)\n",
    "print(\"Αποθηκεύτηκε το graph_features_train.csv\")\n",
    "\n",
    "# -------- TEST -------- #\n",
    "test_df = pd.read_csv(f\"{DATA_DIR}/test.txt\", names=[\"id1\", \"id2\"]).astype(str)\n",
    "tqdm.pandas(desc=\"Graph features (test)\")\n",
    "test_df[[\"common_neighbors\", \"jaccard\", \"adamic_adar\", \"shortest_path\"]] = test_df.progress_apply(\n",
    "    lambda row: compute_graph_features(row[\"id1\"], row[\"id2\"]), axis=1\n",
    ")\n",
    "test_df[[\"id1\", \"id2\", \"common_neighbors\", \"jaccard\", \"adamic_adar\", \"shortest_path\"]]\\\n",
    "    .to_csv(f\"{FEATURE_DIR}/graph_features_test.csv\", index=False)\n",
    "print(\"Αποθηκεύτηκε το graph_features_test.csv\")\n"
   ]
  },
  {
   "cell_type": "code",
   "execution_count": null,
   "id": "bd9b7f3e",
   "metadata": {},
   "outputs": [
    {
     "name": "stderr",
     "output_type": "stream",
     "text": [
      "Υπολογισμός shared features (train): 100%|██████████| 60000/60000 [00:09<00:00, 6249.73it/s] \n"
     ]
    },
    {
     "name": "stdout",
     "output_type": "stream",
     "text": [
      "Αποθηκεύτηκαν τα εξής αρχεία για train:\n",
      "- shared_features_train.csv\n",
      "- shared_word_count_train.csv\n",
      "- shared_word_ratio_train.csv\n"
     ]
    },
    {
     "name": "stderr",
     "output_type": "stream",
     "text": [
      "Υπολογισμός shared features (train): 100%|██████████| 106692/106692 [00:17<00:00, 6204.37it/s] \n"
     ]
    },
    {
     "name": "stdout",
     "output_type": "stream",
     "text": [
      "Αποθηκεύτηκαν τα εξής αρχεία για test:\n",
      "- shared_features_test.csv\n",
      "- shared_word_count_test.csv\n",
      "- shared_word_ratio_test.csv\n"
     ]
    }
   ],
   "source": [
    "# ------- Υπολογισμός shared_word_count & shared_word_ratio ------- #\n",
    "\n",
    "# Φόρτωση abstracts\n",
    "abstracts_df = pd.read_csv(f\"{DATA_DIR}/abstracts.txt\", sep=\"\\\\|--\\\\|\", engine=\"python\", names=[\"paper_id\", \"abstract\"])\n",
    "abstracts_df = abstracts_df.dropna(subset=[\"abstract\"])\n",
    "abstracts_df[\"paper_id\"] = abstracts_df[\"paper_id\"].astype(str)\n",
    "abstracts_dict = dict(zip(abstracts_df[\"paper_id\"], abstracts_df[\"abstract\"]))\n",
    "\n",
    "# Προετοιμασία λεξικών\n",
    "word_sets = {pid: set(text.lower().split()) for pid, text in abstracts_dict.items()}\n",
    "lengths = {pid: len(text.split()) for pid, text in abstracts_dict.items()}\n",
    "\n",
    "def compute_shared_features(id1, id2):\n",
    "    w1 = word_sets.get(id1, set())\n",
    "    w2 = word_sets.get(id2, set())\n",
    "    l1 = lengths.get(id1, 1)\n",
    "    l2 = lengths.get(id2, 1)\n",
    "\n",
    "    shared = len(w1 & w2)\n",
    "    ratio = shared / min(l1, l2) if min(l1, l2) > 0 else 0.0\n",
    "    return pd.Series([shared, ratio])\n",
    "\n",
    "# -------- TRAIN -------- #\n",
    "train_df = pd.read_csv(f\"{DATA_DIR}/train_pairs.csv\").astype(str)\n",
    "tqdm.pandas(desc=\"Υπολογισμός shared features (train)\")\n",
    "train_df[[\"shared_word_count\", \"shared_word_ratio\"]] = train_df.progress_apply(\n",
    "    lambda row: compute_shared_features(row[\"id1\"], row[\"id2\"]), axis=1\n",
    ")\n",
    "\n",
    "\n",
    "# Αποθήκευση αρχείων\n",
    "train_df[[\"id1\", \"id2\", \"shared_word_count\", \"shared_word_ratio\"]].to_csv(f\"{FEATURE_DIR}/shared_features_train.csv\", index=False)\n",
    "train_df[[\"id1\", \"id2\", \"shared_word_count\"]].to_csv(f\"{FEATURE_DIR}/shared_word_count_train.csv\", index=False)\n",
    "train_df[[\"id1\", \"id2\", \"shared_word_ratio\"]].to_csv(f\"{FEATURE_DIR}/shared_word_ratio_train.csv\", index=False)\n",
    "print(\"Αποθηκεύτηκαν τα εξής αρχεία για train:\")\n",
    "print(\"- shared_features_train.csv\")\n",
    "print(\"- shared_word_count_train.csv\")\n",
    "print(\"- shared_word_ratio_train.csv\")\n",
    "\n",
    "# -------- TEST -------- #\n",
    "test_df = pd.read_csv(f\"{DATA_DIR}/test.txt\", names=[\"id1\", \"id2\"]).astype(str)\n",
    "test_df[[\"shared_word_count\", \"shared_word_ratio\"]] = test_df.progress_apply(\n",
    "    lambda row: compute_shared_features(row[\"id1\"], row[\"id2\"]), axis=1\n",
    ")\n",
    "\n",
    "# Αποθήκευση αρχείων\n",
    "test_df[[\"id1\", \"id2\", \"shared_word_count\", \"shared_word_ratio\"]].to_csv(f\"{FEATURE_DIR}/shared_features_test.csv\", index=False)\n",
    "test_df[[\"id1\", \"id2\", \"shared_word_count\"]].to_csv(f\"{FEATURE_DIR}/shared_word_count_test.csv\", index=False)\n",
    "test_df[[\"id1\", \"id2\", \"shared_word_ratio\"]].to_csv(f\"{FEATURE_DIR}/shared_word_ratio_test.csv\", index=False)\n",
    "print(\"Αποθηκεύτηκαν τα εξής αρχεία για test:\")\n",
    "print(\"- shared_features_test.csv\")\n",
    "print(\"- shared_word_count_test.csv\")\n",
    "print(\"- shared_word_ratio_test.csv\")\n"
   ]
  },
  {
   "cell_type": "code",
   "execution_count": null,
   "id": "2407060c",
   "metadata": {},
   "outputs": [
    {
     "name": "stdout",
     "output_type": "stream",
     "text": [
      "Αποθηκεύτηκε το text_ratio_train.csv\n",
      "Αποθηκεύτηκε το text_ratio_test.csv\n"
     ]
    }
   ],
   "source": [
    "# ------- Υπολογισμός text_ratio ------- #\n",
    "\n",
    "# === TRAIN ===\n",
    "text_df   = pd.read_csv(f\"{FEATURE_DIR}/text_similarity_train.csv\")\n",
    "shared_df = pd.read_csv(f\"{FEATURE_DIR}/shared_word_ratio_train.csv\")\n",
    "\n",
    "merged = text_df.merge(shared_df, on=[\"id1\", \"id2\"])\n",
    "merged[\"text_ratio\"] = merged[\"text_similarity\"] * merged[\"shared_word_ratio\"]\n",
    "merged[[\"id1\", \"id2\", \"text_ratio\"]].to_csv(f\"{FEATURE_DIR}/text_ratio_train.csv\", index=False)\n",
    "print(\"Αποθηκεύτηκε το text_ratio_train.csv\")\n",
    "\n",
    "# === TEST ===\n",
    "text_df   = pd.read_csv(f\"{FEATURE_DIR}/text_similarity_test.csv\")\n",
    "shared_df = pd.read_csv(f\"{FEATURE_DIR}/shared_word_ratio_test.csv\")\n",
    "\n",
    "merged = text_df.merge(shared_df, on=[\"id1\", \"id2\"])\n",
    "merged[\"text_ratio\"] = merged[\"text_similarity\"] * merged[\"shared_word_ratio\"]\n",
    "merged[[\"id1\", \"id2\", \"text_ratio\"]].to_csv(f\"{FEATURE_DIR}/text_ratio_test.csv\", index=False)\n",
    "print(\"Αποθηκεύτηκε το text_ratio_test.csv\")\n"
   ]
  },
  {
   "cell_type": "code",
   "execution_count": null,
   "id": "ebda5163",
   "metadata": {},
   "outputs": [
    {
     "name": "stdout",
     "output_type": "stream",
     "text": [
      "Αποθηκεύτηκαν τα X_train.csv και y_train.csv\n",
      "Αποθηκεύτηκε το X_test.csv\n"
     ]
    }
   ],
   "source": [
    "# ------- Δημιουργία X_train, y_train, X_test ------- #\n",
    "\n",
    "# === TRAIN SET ===\n",
    "\n",
    "# Βασικά ζεύγη\n",
    "train_df = pd.read_csv(f\"{DATA_DIR}/train_pairs.csv\").astype(str)\n",
    "train_df[\"label\"] = train_df[\"label\"].astype(int)\n",
    "\n",
    "# Φόρτωση χαρακτηριστικών\n",
    "text_df     = pd.read_csv(f\"{FEATURE_DIR}/text_similarity_train.csv\")\n",
    "bert_df     = pd.read_csv(f\"{FEATURE_DIR}/bert_similarity_train.csv\")\n",
    "author_df   = pd.read_csv(f\"{FEATURE_DIR}/author_similarity_train.csv\")\n",
    "graph_df    = pd.read_csv(f\"{FEATURE_DIR}/graph_features_train.csv\")\n",
    "shared_df   = pd.read_csv(f\"{FEATURE_DIR}/shared_features_train.csv\")\n",
    "textratio_df = pd.read_csv(f\"{FEATURE_DIR}/text_ratio_train.csv\")\n",
    "\n",
    "# Λογαριθμική κλίμακα για το adamic_adar για μείωση outliers\n",
    "graph_df[\"log_adamic_adar\"] = np.log1p(graph_df[\"adamic_adar\"])\n",
    "\n",
    "# Μετατροπή σε id σε string\n",
    "for df in [train_df, text_df, bert_df, author_df, graph_df, shared_df, textratio_df]:\n",
    "    df[\"id1\"] = df[\"id1\"].astype(str)\n",
    "    df[\"id2\"] = df[\"id2\"].astype(str)\n",
    "\n",
    "# Merge όλων\n",
    "merged = train_df.merge(text_df, on=[\"id1\", \"id2\"]) \\\n",
    "                 .merge(bert_df, on=[\"id1\", \"id2\"]) \\\n",
    "                 .merge(author_df, on=[\"id1\", \"id2\"]) \\\n",
    "                 .merge(graph_df, on=[\"id1\", \"id2\"]) \\\n",
    "                 .merge(shared_df, on=[\"id1\", \"id2\"]) \\\n",
    "                 .merge(textratio_df, on=[\"id1\", \"id2\"])\n",
    "\n",
    "# Επιλογή τελικών features\n",
    "final_features = [\n",
    "    \"id1\", \"id2\",\n",
    "    \"text_similarity\", \"bert_similarity\", \"author_jaccard\",\n",
    "    \"common_neighbors\", \"jaccard\", \"log_adamic_adar\",\n",
    "    \"shared_word_count\", \"shared_word_ratio\", \"text_ratio\"\n",
    "]\n",
    "\n",
    "X_train = merged[final_features]\n",
    "y_train = merged[[\"label\"]]\n",
    "\n",
    "X_train.to_csv(f\"{MODEL_DIR}/X_train.csv\", index=False)\n",
    "y_train.to_csv(f\"{MODEL_DIR}/y_train.csv\", index=False)\n",
    "print(\"Αποθηκεύτηκαν τα X_train.csv και y_train.csv\")\n",
    "\n",
    "# === TEST SET ===\n",
    "\n",
    "test_df = pd.read_csv(f\"{DATA_DIR}/test.txt\", names=[\"id1\", \"id2\"]).astype(str)\n",
    "\n",
    "# Φόρτωση χαρακτηριστικών\n",
    "text_df     = pd.read_csv(f\"{FEATURE_DIR}/text_similarity_test.csv\")\n",
    "bert_df     = pd.read_csv(f\"{FEATURE_DIR}/bert_similarity_test.csv\")\n",
    "author_df   = pd.read_csv(f\"{FEATURE_DIR}/author_similarity_test.csv\")\n",
    "graph_df    = pd.read_csv(f\"{FEATURE_DIR}/graph_features_test.csv\")\n",
    "shared_df   = pd.read_csv(f\"{FEATURE_DIR}/shared_features_test.csv\")\n",
    "textratio_df = pd.read_csv(f\"{FEATURE_DIR}/text_ratio_test.csv\")\n",
    "\n",
    "graph_df[\"log_adamic_adar\"] = np.log1p(graph_df[\"adamic_adar\"])\n",
    "\n",
    "# Μετατροπή σε id σε string\n",
    "for df in [test_df, text_df, bert_df, author_df, graph_df, shared_df, textratio_df]:\n",
    "    df[\"id1\"] = df[\"id1\"].astype(str)\n",
    "    df[\"id2\"] = df[\"id2\"].astype(str)\n",
    "\n",
    "\n",
    "merged_test = test_df.merge(text_df, on=[\"id1\", \"id2\"]) \\\n",
    "                     .merge(bert_df, on=[\"id1\", \"id2\"]) \\\n",
    "                     .merge(author_df, on=[\"id1\", \"id2\"]) \\\n",
    "                     .merge(graph_df, on=[\"id1\", \"id2\"]) \\\n",
    "                     .merge(shared_df, on=[\"id1\", \"id2\"]) \\\n",
    "                     .merge(textratio_df, on=[\"id1\", \"id2\"])\n",
    "\n",
    "X_test = merged_test[final_features]\n",
    "X_test.to_csv(f\"{MODEL_DIR}/X_test.csv\", index=False)\n",
    "print(\"Αποθηκεύτηκε το X_test.csv\")\n"
   ]
  },
  {
   "cell_type": "code",
   "execution_count": null,
   "id": "1868d9c1",
   "metadata": {},
   "outputs": [
    {
     "name": "stdout",
     "output_type": "stream",
     "text": [
      "Δημιουργήθηκε το submission_best.csv (Score: 0.13758)\n"
     ]
    }
   ],
   "source": [
    "# ------- Τελικό submission: submission_best.csv ------- #\n",
    "# Αναπαράγει την Υποβολή 13 από το submission_experiments.ipynb\n",
    "# Χρήση όλων των διαθέσιμων χαρακτηριστικών χωρίς feature selection\n",
    "# Μοντέλο: XGBClassifier() με default παραμέτρους\n",
    "# Kaggle Public Score: 0.13758\n",
    "\n",
    "# === Φόρτωση δεδομένων ===\n",
    "X_train = pd.read_csv(f\"{MODEL_DIR}/X_train.csv\")\n",
    "X_test = pd.read_csv(f\"{MODEL_DIR}/X_test.csv\")\n",
    "y_train = pd.read_csv(f\"{MODEL_DIR}/y_train.csv\")\n",
    "\n",
    "# === Εκπαίδευση μοντέλου ===\n",
    "model = xgb.XGBClassifier()\n",
    "model.fit(X_train, y_train)\n",
    "\n",
    "# === Πρόβλεψη και δημιουργία υποβολής ===\n",
    "y_pred = model.predict_proba(X_test)[:, 1]\n",
    "submission = pd.DataFrame({\"ID\": range(len(y_pred)), \"Label\": y_pred})\n",
    "submission.to_csv(f\"{SUBMISSION_DIR}/submission_best.csv\", index=False)\n",
    "\n",
    "print(\"Δημιουργήθηκε το submission_best.csv (Score: 0.13758)\")\n"
   ]
  },
  {
   "cell_type": "code",
   "execution_count": null,
   "id": "c60b90bc",
   "metadata": {},
   "outputs": [
    {
     "name": "stdout",
     "output_type": "stream",
     "text": [
      "Δημιουργήθηκε το submission_2nd.csv (Score: 0.14199)\n"
     ]
    }
   ],
   "source": [
    "# ------- Εναλλακτικό submission: submission_2nd.csv ------- #\n",
    "# Αναπαράγει την Υποβολή 12 από το submission_experiments.ipynb\n",
    "# Χρήση επιλεγμένων χαρακτηριστικών με tuned hyperparameters\n",
    "# Μοντέλο: XGBClassifier με n_estimators=100, max_depth=5, learning_rate=0.1\n",
    "# Kaggle Public Score: 0.14199\n",
    "\n",
    "# === Φόρτωση δεδομένων ===\n",
    "X_train = pd.read_csv(f\"{MODEL_DIR}/X_train.csv\")\n",
    "X_test = pd.read_csv(f\"{MODEL_DIR}/X_test.csv\")\n",
    "y_train = pd.read_csv(f\"{MODEL_DIR}/y_train.csv\")\n",
    "\n",
    "# === Επιλογή χαρακτηριστικών ===\n",
    "selected_features = [\n",
    "    \"text_similarity\", \"bert_similarity\", \"author_jaccard\",\n",
    "    \"common_neighbors\", \"jaccard\", \"log_adamic_adar\",\n",
    "    \"shared_word_count\", \"shared_word_ratio\", \"text_ratio\"\n",
    "]\n",
    "\n",
    "# === Εκπαίδευση μοντέλου ===\n",
    "model = xgb.XGBClassifier(\n",
    "    n_estimators=100,\n",
    "    max_depth=5,\n",
    "    learning_rate=0.1,\n",
    "    eval_metric=\"logloss\",\n",
    "    random_state=42\n",
    ")\n",
    "model.fit(X_train[selected_features], y_train)\n",
    "\n",
    "# === Πρόβλεψη και δημιουργία υποβολής ===\n",
    "y_pred = model.predict_proba(X_test[selected_features])[:, 1]\n",
    "submission = pd.DataFrame({\"ID\": range(len(y_pred)), \"Label\": y_pred})\n",
    "submission.to_csv(f\"{SUBMISSION_DIR}/submission_2nd.csv\", index=False)\n",
    "\n",
    "print(\"Δημιουργήθηκε το submission_2nd.csv (Score: 0.14199)\")\n"
   ]
  }
 ],
 "metadata": {
  "kernelspec": {
   "display_name": "Python 3",
   "language": "python",
   "name": "python3"
  },
  "language_info": {
   "codemirror_mode": {
    "name": "ipython",
    "version": 3
   },
   "file_extension": ".py",
   "mimetype": "text/x-python",
   "name": "python",
   "nbconvert_exporter": "python",
   "pygments_lexer": "ipython3",
   "version": "3.11.9"
  }
 },
 "nbformat": 4,
 "nbformat_minor": 5
}
